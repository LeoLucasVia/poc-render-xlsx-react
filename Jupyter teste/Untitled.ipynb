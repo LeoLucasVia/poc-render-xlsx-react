{
 "cells": [
  {
   "cell_type": "code",
   "execution_count": 1,
   "id": "b9dedb84",
   "metadata": {},
   "outputs": [],
   "source": [
    "import pandas as pd\n",
    "import json\n",
    "\n",
    "df = pd.read_excel('teste.xlsx', sheet_name=\"Pré-atendimento\")\n",
    "\n",
    "selecao1 = df.iloc[6:17, [1]]\n",
    "selecao2 = df.iloc[6:17, [5,7]]\n",
    "\n",
    "selecao1 = selecao1.rename(columns={'Link do protótipo (direto para pré-atendimento): Clique aqui *versão CB - CPF': 'permissao'})\n",
    "selecao2 = selecao2.rename(columns={'Unnamed: 7': 'Fornecedores'})\n",
    "selecao2 = selecao2.rename(columns={'Unnamed: 5': 'Front (SAC Lojas Físicas)'})\n",
    "\n",
    "dadosCliente = selecao1.join(selecao2)\n",
    "\n",
    "dadosCliente = dadosCliente.applymap(lambda x: x.encode('utf-8') if isinstance(x, str) else x)\n",
    "\n",
    "#display(dadosCliente)"
   ]
  },
  {
   "cell_type": "code",
   "execution_count": 2,
   "id": "78ea1358",
   "metadata": {},
   "outputs": [],
   "source": [
    "data = {\n",
    "    'Permissoes': {}\n",
    "}\n",
    "\n",
    "for column in dadosCliente.columns:\n",
    "    column_data = {}\n",
    "    for _, row in dadosCliente.iterrows():\n",
    "        column_data[row['permissao']] = row[column]\n",
    "    data['Permissoes'][column] = column_data\n",
    "\n",
    "data[\"Permissoes\"].pop(\"permissao\", None)\n",
    "\n",
    "json_data = pd.io.json.dumps(data, orient='index', ensure_ascii=False)"
   ]
  },
  {
   "cell_type": "code",
   "execution_count": 3,
   "id": "a2287eb8",
   "metadata": {},
   "outputs": [
    {
     "name": "stdout",
     "output_type": "stream",
     "text": [
      "{\"Permissoes\":{\"Front (SAC Lojas Físicas)\":{\"Cliente\":true,\"CPF\":true,\"CNPJ\":true,\"Inscrição estadual\":true,\"Código do cliente\":true,\"Data de nascimento\":true,\"E-mail\":true,\"Telefone 01\":true,\"Telefone 02\":true,\"Telefone 03\":true,\"Telefone 04\":true},\"Fornecedores\":{\"Cliente\":true,\"CPF\":true,\"CNPJ\":true,\"Inscrição estadual\":true,\"Código do cliente\":true,\"Data de nascimento\":true,\"E-mail\":true,\"Telefone 01\":true,\"Telefone 02\":true,\"Telefone 03\":true,\"Telefone 04\":false}}}\n"
     ]
    }
   ],
   "source": [
    "data = json.loads(json_data)\n",
    "\n",
    "for key, value in data['Permissoes'].items():\n",
    "    for inner_key, inner_value in value.items():\n",
    "        if inner_value == 'Liberar':\n",
    "            value[inner_key] = True\n",
    "        elif inner_value == 'Ocultar':\n",
    "            value[inner_key] = False\n",
    "\n",
    "json_string = pd.io.json.dumps(data, orient='index', ensure_ascii=False)\n",
    "\n",
    "print(json_string)\n",
    "\n",
    "with open('my-project\\\\src\\\\dados.json', 'w', encoding='utf-8') as f:\n",
    "    f.write(json_string)"
   ]
  },
  {
   "cell_type": "code",
   "execution_count": null,
   "id": "b9eb0f66",
   "metadata": {},
   "outputs": [],
   "source": []
  }
 ],
 "metadata": {
  "kernelspec": {
   "display_name": "Python 3 (ipykernel)",
   "language": "python",
   "name": "python3"
  },
  "language_info": {
   "codemirror_mode": {
    "name": "ipython",
    "version": 3
   },
   "file_extension": ".py",
   "mimetype": "text/x-python",
   "name": "python",
   "nbconvert_exporter": "python",
   "pygments_lexer": "ipython3",
   "version": "3.10.6"
  }
 },
 "nbformat": 4,
 "nbformat_minor": 5
}
